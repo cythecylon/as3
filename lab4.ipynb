{
 "cells": [
  {
   "cell_type": "code",
   "execution_count": 1,
   "metadata": {
    "collapsed": false
   },
   "outputs": [
    {
     "name": "stdout",
     "output_type": "stream",
     "text": [
      "total 16\n",
      "drwxr-xr-x+ 1 t00152281 Domain Users  0 Feb  1 13:26 .\n",
      "drwxr-xr-x+ 1 t00152281 Domain Users  0 Feb  1 13:26 ..\n",
      "drwxr-xr-x+ 1 t00152281 Domain Users  0 Feb  1 13:20 .git\n",
      "-rwxr-xr-x  1 t00152281 Domain Users 15 Feb  1 13:00 .gitignore\n",
      "drwxr-xr-x+ 1 t00152281 Domain Users  0 Feb  1 13:26 .ipynb_checkpoints\n",
      "-rwxr-xr-x  1 t00152281 Domain Users 21 Feb  1 13:12 names.txt\n",
      "-rw-r--r--  1 t00152281 Domain Users 11 Feb  1 12:48 passwords.txt\n",
      "-rwxr-xr-x  1 t00152281 Domain Users 72 Feb  1 13:26 Untitled.ipynb\n"
     ]
    }
   ],
   "source": [
    "%%bash\n",
    "ls -al\n"
   ]
  },
  {
   "cell_type": "code",
   "execution_count": 2,
   "metadata": {
    "collapsed": false,
    "scrolled": true
   },
   "outputs": [
    {
     "name": "stdout",
     "output_type": "stream",
     "text": [
      "total 16\n",
      "drwxr-xr-x+ 1 t00152281 Domain Users  0 Feb  1 13:26 .\n",
      "drwxr-xr-x+ 1 t00152281 Domain Users  0 Feb  1 13:26 ..\n",
      "drwxr-xr-x+ 1 t00152281 Domain Users  0 Feb  1 13:20 .git\n",
      "-rwxr-xr-x  1 t00152281 Domain Users 15 Feb  1 13:00 .gitignore\n",
      "drwxr-xr-x+ 1 t00152281 Domain Users  0 Feb  1 13:26 .ipynb_checkpoints\n",
      "-rwxr-xr-x  1 t00152281 Domain Users 21 Feb  1 13:12 names.txt\n",
      "-rw-r--r--  1 t00152281 Domain Users 11 Feb  1 12:48 passwords.txt\n",
      "-rwxr-xr-x  1 t00152281 Domain Users 72 Feb  1 13:26 Untitled.ipynb\n"
     ]
    }
   ],
   "source": [
    "!ls -al\n"
   ]
  },
  {
   "cell_type": "code",
   "execution_count": 3,
   "metadata": {
    "collapsed": true
   },
   "outputs": [],
   "source": [
    "def getAverage(numbers):\n",
    "    sum_num = 0\n",
    "    for i in numbers:\n",
    "        sum_num = i\n",
    "    return sum_num / len(numbers)"
   ]
  },
  {
   "cell_type": "code",
   "execution_count": 4,
   "metadata": {
    "collapsed": false
   },
   "outputs": [
    {
     "data": {
      "text/plain": [
       "0.0"
      ]
     },
     "execution_count": 4,
     "metadata": {},
     "output_type": "execute_result"
    }
   ],
   "source": [
    "getAverage([3,5,2])"
   ]
  },
  {
   "cell_type": "code",
   "execution_count": 5,
   "metadata": {
    "collapsed": true
   },
   "outputs": [],
   "source": [
    "numbers = {1,2,3}"
   ]
  },
  {
   "cell_type": "code",
   "execution_count": 6,
   "metadata": {
    "collapsed": false
   },
   "outputs": [
    {
     "data": {
      "text/plain": [
       "0.0"
      ]
     },
     "execution_count": 6,
     "metadata": {},
     "output_type": "execute_result"
    }
   ],
   "source": [
    "getAverage(numbers)"
   ]
  },
  {
   "cell_type": "code",
   "execution_count": 7,
   "metadata": {
    "collapsed": true
   },
   "outputs": [],
   "source": [
    "##Only use = in sum_num = i meant to +=. "
   ]
  },
  {
   "cell_type": "code",
   "execution_count": 8,
   "metadata": {
    "collapsed": true
   },
   "outputs": [],
   "source": [
    "def getAverage(numbers):\n",
    "    sum_num = 0\n",
    "    for i in numbers:\n",
    "        sum_num += i\n",
    "    return sum_num / len(numbers)"
   ]
  },
  {
   "cell_type": "code",
   "execution_count": 9,
   "metadata": {
    "collapsed": false
   },
   "outputs": [
    {
     "data": {
      "text/plain": [
       "2.0"
      ]
     },
     "execution_count": 9,
     "metadata": {},
     "output_type": "execute_result"
    }
   ],
   "source": [
    "getAverage([3,2,1])"
   ]
  },
  {
   "cell_type": "code",
   "execution_count": null,
   "metadata": {
    "collapsed": true
   },
   "outputs": [],
   "source": []
  }
 ],
 "metadata": {
  "kernelspec": {
   "display_name": "Python 3",
   "language": "python",
   "name": "python3"
  },
  "language_info": {
   "codemirror_mode": {
    "name": "ipython",
    "version": 3
   },
   "file_extension": ".py",
   "mimetype": "text/x-python",
   "name": "python",
   "nbconvert_exporter": "python",
   "pygments_lexer": "ipython3",
   "version": "3.5.1"
  }
 },
 "nbformat": 4,
 "nbformat_minor": 0
}
